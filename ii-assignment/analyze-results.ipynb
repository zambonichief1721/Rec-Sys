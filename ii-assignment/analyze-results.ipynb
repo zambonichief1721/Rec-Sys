{
 "cells": [
  {
   "cell_type": "markdown",
   "metadata": {},
   "source": [
    "# Analyze Item-Item Results\n",
    "\n",
    "This notebook analyzes the item-item CF results."
   ]
  },
  {
   "cell_type": "markdown",
   "metadata": {},
   "source": [
    "## Setup"
   ]
  },
  {
   "cell_type": "code",
   "execution_count": null,
   "metadata": {
    "collapsed": false
   },
   "outputs": [],
   "source": [
    "library(dplyr)\n",
    "library(ggplot2)\n",
    "library(reshape2)\n",
    "options(repr.plot.height=5)"
   ]
  },
  {
   "cell_type": "code",
   "execution_count": null,
   "metadata": {
    "collapsed": false
   },
   "outputs": [],
   "source": [
    "results = read.csv(\"build/eval-results.csv\")\n",
    "head(results)"
   ]
  },
  {
   "cell_type": "markdown",
   "metadata": {},
   "source": [
    "## Utility Functions"
   ]
  },
  {
   "cell_type": "markdown",
   "metadata": {},
   "source": [
    "Compute the standard error:"
   ]
  },
  {
   "cell_type": "code",
   "execution_count": null,
   "metadata": {
    "collapsed": true
   },
   "outputs": [],
   "source": [
    "se = function(x) {\n",
    "    sd(x) / sqrt(length(x))\n",
    "}"
   ]
  },
  {
   "cell_type": "markdown",
   "metadata": {},
   "source": [
    "Plot a metric, with its error bars:"
   ]
  },
  {
   "cell_type": "code",
   "execution_count": null,
   "metadata": {
    "collapsed": true
   },
   "outputs": [],
   "source": [
    "plot.metric = function(data) {\n",
    "  ggplot(data) +\n",
    "    aes(x=NNbrs, color=Algorithm, shape=Algorithm, y=Value) +\n",
    "    geom_line() + geom_point() +\n",
    "    geom_errorbar(aes(ymax=Value + Err, ymin=Value - Err)) +\n",
    "    facet_wrap(~ DataSet)\n",
    "}"
   ]
  },
  {
   "cell_type": "markdown",
   "metadata": {},
   "source": [
    "## Results"
   ]
  },
  {
   "cell_type": "code",
   "execution_count": null,
   "metadata": {
    "collapsed": true
   },
   "outputs": [],
   "source": [
    "results.grouped = results %>% group_by(DataSet, Algorithm, NNbrs)"
   ]
  },
  {
   "cell_type": "code",
   "execution_count": null,
   "metadata": {
    "collapsed": false
   },
   "outputs": [],
   "source": [
    "results.grouped %>%\n",
    "    summarize(Value=mean(Coverage), Err=se(Coverage)) %>%\n",
    "    plot.metric()"
   ]
  },
  {
   "cell_type": "code",
   "execution_count": null,
   "metadata": {
    "collapsed": false
   },
   "outputs": [],
   "source": [
    "rmse.data = results %>%\n",
    "    select(Algorithm, Partition, NNbrs, RMSE.ByRating, RMSE.ByUser) %>%\n",
    "    melt(id.vars=c(\"Algorithm\", \"Partition\", \"NNbrs\"), variable.name=\"Metric\") %>%\n",
    "    group_by(Algorithm, NNbrs, Metric) %>%\n",
    "    summarize(mean=mean(value))\n",
    "ggplot(rmse.data %>% filter(!is.na(NNbrs))) +\n",
    "    aes(x=NNbrs, color=Algorithm, shape=Algorithm, y=mean) +\n",
    "    geom_line() + geom_point() +\n",
    "    geom_hline(data=(rmse.data %>% filter(is.na(NNbrs))),\n",
    "                mapping=aes(yintercept=mean)) +\n",
    "    facet_wrap(~ Metric)"
   ]
  },
  {
   "cell_type": "code",
   "execution_count": null,
   "metadata": {
    "collapsed": false
   },
   "outputs": [],
   "source": [
    "results.grouped %>%\n",
    "    summarize(Value=mean(RMSE.ByUser), Err=se(RMSE.ByUser)) %>%\n",
    "    plot.metric()"
   ]
  },
  {
   "cell_type": "code",
   "execution_count": null,
   "metadata": {
    "collapsed": false
   },
   "outputs": [],
   "source": [
    "results.grouped %>%\n",
    "    summarize(Value=mean(TopN.nDCG), Err=se(TopN.nDCG)) %>%\n",
    "    plot.metric()"
   ]
  },
  {
   "cell_type": "code",
   "execution_count": null,
   "metadata": {
    "collapsed": false,
    "scrolled": true
   },
   "outputs": [],
   "source": [
    "results.grouped %>%\n",
    "    summarize(Value=mean(Predict.nDCG), Err=se(Predict.nDCG)) %>%\n",
    "    plot.metric()"
   ]
  },
  {
   "cell_type": "code",
   "execution_count": null,
   "metadata": {
    "collapsed": true
   },
   "outputs": [],
   "source": []
  }
 ],
 "metadata": {
  "kernelspec": {
   "display_name": "R",
   "language": "R",
   "name": "ir"
  },
  "language_info": {
   "codemirror_mode": "r",
   "file_extension": ".r",
   "mimetype": "text/x-r-source",
   "name": "R",
   "pygments_lexer": "r",
   "version": "3.2.2"
  }
 },
 "nbformat": 4,
 "nbformat_minor": 0
}